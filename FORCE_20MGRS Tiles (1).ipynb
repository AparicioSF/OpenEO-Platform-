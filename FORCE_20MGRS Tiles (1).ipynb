{
 "cells": [
  {
   "cell_type": "markdown",
   "id": "17156332-739e-44e3-80fe-f15f9b40f981",
   "metadata": {},
   "source": [
    "# FORCE - use case testing\n",
    "**FORCE (Framework for Operational Radiometric Correction for Environmental monitoring)**, an ‘all-in-one’ solution for the mass-processing and analysis of Landsat and Sentinel-2 image archives. FORCE is used to generate Level 2 ARD, and higher-level products, comprising state-of-the-art cloud masking and radiometric correction (including corrections that go beyond ARD specification, e.g., topographic or bidirectional reflectance distribution function correction).\n",
    "Sara Aparicio"
   ]
  },
  {
   "cell_type": "markdown",
   "id": "f1690ffb-4d66-49a7-ad12-7b3796944380",
   "metadata": {},
   "source": [
    "## 0 - Install libraries"
   ]
  },
  {
   "cell_type": "code",
   "execution_count": 2,
   "id": "18c0479e-e56b-4d01-9546-aea9ca094fdf",
   "metadata": {
    "tags": []
   },
   "outputs": [],
   "source": [
    "from eo_utils import *\n",
    "# from work/sample-notebooks/eo_utils import *\n",
    "import numpy as np\n",
    "import timeit"
   ]
  },
  {
   "cell_type": "markdown",
   "id": "a32964d7-0dfa-4ddb-ace8-751540d6f9c3",
   "metadata": {},
   "source": [
    "## 1 - Connect to backend & Authenticate\n",
    "It is sent directly to VITO backend so the aggregator does not resolve the senidn of prior gap to correct tbakc that resolve beyond the point of collection. BOA S2 is a unique connection all 3 backends have been harmonized and the aggregator is not \"smart\" enough to resolve the backend. The way around is to select the backend:"
   ]
  },
  {
   "cell_type": "markdown",
   "id": "54df6264-3221-4b21-9ad6-65723122df79",
   "metadata": {},
   "source": [
    "#### 1.1 Select backend"
   ]
  },
  {
   "cell_type": "code",
   "execution_count": 12,
   "id": "1f306f19-792c-4da8-b18b-ee166a92b96e",
   "metadata": {},
   "outputs": [],
   "source": [
    "# This would be the one choosed for the openEO Platform:\n",
    "#backend = \"openeo.cloud\" \n",
    "\n",
    "# Instead we specify this one:\n",
    "backend = \"openeo-dev.eodc.eu/v1.0\""
   ]
  },
  {
   "cell_type": "markdown",
   "id": "6d3525ab-86b8-4322-8686-959b84e05198",
   "metadata": {},
   "source": [
    "#### 1.2 Connect and authenticate"
   ]
  },
  {
   "cell_type": "code",
   "execution_count": 7,
   "id": "4cea500a-f999-4251-911e-b1daa802352d",
   "metadata": {},
   "outputs": [
    {
     "name": "stdout",
     "output_type": "stream",
     "text": [
      "Authenticated using refresh token.\n"
     ]
    }
   ],
   "source": [
    "# connection = openeo.connect(\"openeo-dev.eodc.eu\")\n",
    "conn = openeo.connect(backend).authenticate_oidc(provider_id=\"egi\")"
   ]
  },
  {
   "cell_type": "markdown",
   "id": "8af6fb37-fd95-4f68-aa08-a930b2f1ec88",
   "metadata": {},
   "source": [
    "#### 1.3 Sets the map:\n",
    "Note that you need the helper script eo_utils.py in order to run this cell!"
   ]
  },
  {
   "cell_type": "code",
   "execution_count": 9,
   "id": "1aa3ffaf-fbe8-4201-b2e5-3b7cd09c8ff8",
   "metadata": {},
   "outputs": [
    {
     "data": {
      "application/vnd.jupyter.widget-view+json": {
       "model_id": "93de83be480b4d9581fbcfd1df825e8f",
       "version_major": 2,
       "version_minor": 0
      },
      "text/plain": [
       "Map(center=[46.49, 11.35], controls=(ZoomControl(options=['position', 'zoom_in_text', 'zoom_in_title', 'zoom_o…"
      ]
     },
     "metadata": {},
     "output_type": "display_data"
    }
   ],
   "source": [
    "center = [46.49, 11.35]\n",
    "zoom = 12\n",
    "\n",
    "eoMap = openeoMap(center,zoom)\n",
    "#addS2Tiles(eoMap)\n",
    "eoMap.map"
   ]
  },
  {
   "cell_type": "code",
   "execution_count": 10,
   "id": "dd802056-1297-4dd8-a912-57becf2c6cb0",
   "metadata": {},
   "outputs": [
    {
     "name": "stdout",
     "output_type": "stream",
     "text": [
      "west 9.256786 \n",
      "east 14.970855 \n",
      "south 44.505908 \n",
      "north 47.526104\n"
     ]
    }
   ],
   "source": [
    "# bbox = [3.236323, 43.474184 , 16.198021, 45.818592]\n",
    "# bbox = eoMap.getBbox()\n",
    "# bbox = [11.210517883300781, 46.44258864468262, 11.489639282226564, 46.53713734839792]\n",
    "# west 3.236323, # east 16.198021, # south 43.474184 \n",
    "# north 45.818592\n",
    "\n",
    "# west 7.739853 \n",
    "# east 14.751275 \n",
    "# south 50.541363 \n",
    "# north 53.120405\n",
    "\n",
    "# west 9.256786 \n",
    "# east 14.970855 \n",
    "# south 44.505908 \n",
    "# north 47.526104\n",
    "\n",
    "bbox = [9.256786, 44.505908, 14.970855, 47.526104]\n",
    "print('west',bbox[0],'\\neast',bbox[2],'\\nsouth',bbox[1],'\\nnorth',bbox[3])"
   ]
  },
  {
   "cell_type": "code",
   "execution_count": 11,
   "id": "580d7195-1ea5-43fa-93da-1820a8981342",
   "metadata": {},
   "outputs": [
    {
     "name": "stdout",
     "output_type": "stream",
     "text": [
      "[10.789947509765627, 46.38578052681784, 12.63427734375, 46.76338378225934]\n"
     ]
    }
   ],
   "source": [
    "bbox = eoMap.getBbox()\n",
    "print(bbox)"
   ]
  },
  {
   "cell_type": "markdown",
   "id": "c805ce0a-8845-4b78-a7b1-2355656976f5",
   "metadata": {},
   "source": [
    "## 2- Selecting constraints for the S2 collection (cube)\n",
    "Here the dates selected are on porpous not older than 3 months, since datasets older than 3 months (i.e. from current date) are stored and hence not available. As such, when using a 3-month old dataset it has to be recalled and there is currenyly an issue with this recall."
   ]
  },
  {
   "cell_type": "code",
   "execution_count": 13,
   "id": "92c87a6e-9e6e-4524-a1b8-3bb0de685e2b",
   "metadata": {},
   "outputs": [],
   "source": [
    "collection      = \"SENTINEL2_L1C\"#'sentinel-2-l1c'#'SENTINEL2_L1C'\n",
    "spatial_extent  = {'west':bbox[0],'east':bbox[2],'south':bbox[1],'north':bbox[3],'crs':'EPSG:4326'}\n",
    "temporal_extent = [\"2023-10-09\", \"2023-10-19\"]\n",
    "bands           = ['B01', 'B02', 'B03', 'B04', 'B05', 'B06', 'B07', 'B08', 'B8A', 'B09', 'B10', 'B11']"
   ]
  },
  {
   "cell_type": "markdown",
   "id": "ff694cdc-b1a3-40cc-a088-23a5f2015e21",
   "metadata": {},
   "source": [
    "#### 2.1 Creating the S2 cube\n",
    "Natively it cannot run again, because of the harmonization collection error. However, if setting the correct properties as described in https://github.com/openEOPlatform/architecture-docs/issues/357 by Valentina, this way a specific backend in provided and should run this way."
   ]
  },
  {
   "cell_type": "code",
   "execution_count": 14,
   "id": "09215bd1-6d24-4cbc-b2e3-dc82596e88ea",
   "metadata": {},
   "outputs": [],
   "source": [
    "cube = conn.load_collection(collection,spatial_extent=spatial_extent,bands=bands,temporal_extent=temporal_extent, properties={\"provider:backend\":lambda v: v ==\"eodc\"})"
   ]
  },
  {
   "cell_type": "markdown",
   "id": "fe7a34e6-f9d8-4896-af79-ebbfe85a09ef",
   "metadata": {},
   "source": [
    "#### 2.2 Applying FORCE to the S2 Cube"
   ]
  },
  {
   "cell_type": "code",
   "execution_count": 16,
   "id": "79a9b698-f649-4616-ac51-75d31bb80b5c",
   "metadata": {},
   "outputs": [],
   "source": [
    "cube = cube.atmospheric_correction(method=\"FORCE\")\n",
    "cube = cube.save_result(format='GTiff')"
   ]
  },
  {
   "cell_type": "markdown",
   "id": "9d4100d5-ea4c-41d1-be03-32e029a93954",
   "metadata": {},
   "source": [
    "#### 2.3 Create the job"
   ]
  },
  {
   "cell_type": "code",
   "execution_count": 17,
   "id": "6bedf7a1-f37d-45a3-b095-669aafd0d769",
   "metadata": {},
   "outputs": [
    {
     "name": "stderr",
     "output_type": "stream",
     "text": [
      "Preflight process graph validation raised: [404] Load call not available for SENTINEL2_L1C\n"
     ]
    },
    {
     "data": {
      "text/html": [
       "\n",
       "    <script>\n",
       "    if (!window.customElements || !window.customElements.get('openeo-job')) {\n",
       "        var el = document.createElement('script');\n",
       "        el.src = \"https://cdn.jsdelivr.net/npm/@openeo/vue-components@2/assets/openeo.min.js\";\n",
       "        document.head.appendChild(el);\n",
       "\n",
       "        var font = document.createElement('font');\n",
       "        font.as = \"font\";\n",
       "        font.type = \"font/woff2\";\n",
       "        font.crossOrigin = true;\n",
       "        font.href = \"https://use.fontawesome.com/releases/v5.13.0/webfonts/fa-solid-900.woff2\"\n",
       "        document.head.appendChild(font);\n",
       "    }\n",
       "    </script>\n",
       "    <openeo-job>\n",
       "        <script type=\"application/json\">{\"currency\": \"credits\", \"job\": {\"id\": \"c4d7178a-f7b5-4ba9-a157-7c4938f022c1\", \"process\": {\"id\": \"3B7368880C324784\", \"process_graph\": {\"loadcollection1\": {\"process_id\": \"load_collection\", \"arguments\": {\"bands\": [\"B01\", \"B02\", \"B03\", \"B04\", \"B05\", \"B06\", \"B07\", \"B08\", \"B8A\", \"B09\", \"B10\", \"B11\"], \"id\": \"SENTINEL2_L1C\", \"properties\": {\"provider:backend\": {\"process_graph\": {\"eq1\": {\"process_id\": \"eq\", \"arguments\": {\"x\": {\"from_parameter\": \"value\"}, \"y\": \"eodc\"}, \"result\": true}}}}, \"spatial_extent\": {\"west\": 10.789947509765627, \"east\": 12.63427734375, \"south\": 46.38578052681784, \"north\": 46.76338378225934, \"crs\": \"EPSG:4326\"}, \"temporal_extent\": [\"2023-10-09\", \"2023-10-19\"]}}, \"atmosphericcorrection1\": {\"process_id\": \"atmospheric_correction\", \"arguments\": {\"data\": {\"from_node\": \"loadcollection1\"}, \"method\": \"FORCE\", \"options\": {}}}, \"atmosphericcorrection2\": {\"process_id\": \"atmospheric_correction\", \"arguments\": {\"data\": {\"from_node\": \"atmosphericcorrection1\"}, \"method\": \"FORCE\", \"options\": {}}}, \"saveresult1\": {\"process_id\": \"save_result\", \"arguments\": {\"data\": {\"from_node\": \"atmosphericcorrection2\"}, \"format\": \"GTiff\", \"options\": {}}, \"result\": true}}}, \"status\": \"queued\", \"created\": \"2023-11-15T15:09:29Z\"}}</script>\n",
       "    </openeo-job>\n",
       "    "
      ],
      "text/plain": [
       "<BatchJob job_id='c4d7178a-f7b5-4ba9-a157-7c4938f022c1'>"
      ]
     },
     "execution_count": 17,
     "metadata": {},
     "output_type": "execute_result"
    }
   ],
   "source": [
    "job = cube.create_job()\n",
    "job.start_job()"
   ]
  },
  {
   "cell_type": "code",
   "execution_count": 8,
   "id": "cf9a8d09-4df5-4216-a271-02dd1a26ecf0",
   "metadata": {},
   "outputs": [],
   "source": [
    "ard_force = cube.ard_surface_reflectance(atmospheric_correction_method = 'FORCE', \n",
    "                                       cloud_detection_method = 'Fmask', \n",
    "                                       elevation_model = \"cop-dem-30m\",\n",
    "                                       atmospheric_correction_options = {\"do_brdf\" : \"TRUE\", \"do_topo\" : \"TRUE\"}, \n",
    "                                       cloud_detection_options={'cld_prob' : 0.225,'cld_dil' : 6, 'shd_dil' : 6})"
   ]
  },
  {
   "cell_type": "code",
   "execution_count": 9,
   "id": "e06868a3-d8e8-4d3e-b5b2-94b3641edecf",
   "metadata": {},
   "outputs": [],
   "source": [
    "ard_force_tif = ard_force.save_result(format=\"GTiff\")"
   ]
  },
  {
   "cell_type": "code",
   "execution_count": null,
   "id": "0fe3da3a-b8c5-42ac-aeef-3d5d9ef77144",
   "metadata": {},
   "outputs": [],
   "source": [
    "# job = ard_force_tif.execute_batch(format = 'GTiff')\n",
    "# job.get_results().download_files(\"sar-nrb\")"
   ]
  },
  {
   "cell_type": "code",
   "execution_count": 11,
   "id": "22462abc-2f86-41a7-aa7d-a167dd9380b2",
   "metadata": {},
   "outputs": [
    {
     "data": {
      "text/html": [
       "\n",
       "    <script>\n",
       "    if (!window.customElements || !window.customElements.get('openeo-job')) {\n",
       "        var el = document.createElement('script');\n",
       "        el.src = \"https://cdn.jsdelivr.net/npm/@openeo/vue-components@2/assets/openeo.min.js\";\n",
       "        document.head.appendChild(el);\n",
       "\n",
       "        var font = document.createElement('font');\n",
       "        font.as = \"font\";\n",
       "        font.type = \"font/woff2\";\n",
       "        font.crossOrigin = true;\n",
       "        font.href = \"https://use.fontawesome.com/releases/v5.13.0/webfonts/fa-solid-900.woff2\"\n",
       "        document.head.appendChild(font);\n",
       "    }\n",
       "    </script>\n",
       "    <openeo-job>\n",
       "        <script type=\"application/json\">{\"currency\": \"credits\", \"job\": {\"created\": \"2023-10-10T11:36:44Z\", \"id\": \"eodc-e25ca8bf-47dd-44b4-a401-826dc836bceb\", \"process\": {\"id\": \"8845D8FDCDCE4E56\", \"process_graph\": {\"ardsurfacereflectance1\": {\"arguments\": {\"atmospheric_correction_method\": \"FORCE\", \"atmospheric_correction_options\": {\"do_brdf\": \"TRUE\", \"do_topo\": \"TRUE\"}, \"cloud_detection_method\": \"Fmask\", \"cloud_detection_options\": {\"cld_dil\": 6, \"cld_prob\": 0.225, \"shd_dil\": 6}, \"data\": {\"from_node\": \"loadcollection1\"}, \"elevation_model\": \"cop-dem-30m\"}, \"process_id\": \"ard_surface_reflectance\"}, \"loadcollection1\": {\"arguments\": {\"bands\": [\"B01\", \"B02\", \"B03\", \"B04\", \"B05\", \"B06\", \"B07\", \"B08\", \"B8A\", \"B09\", \"B10\", \"B11\"], \"id\": \"SENTINEL2_L1C\", \"spatial_extent\": {\"crs\": \"EPSG:4326\", \"east\": 14.970855, \"north\": 47.526104, \"south\": 44.505908, \"west\": 9.256786}, \"temporal_extent\": [\"2023-03-09\", \"2023-03-19\"]}, \"process_id\": \"load_collection\"}, \"saveresult1\": {\"arguments\": {\"data\": {\"from_node\": \"ardsurfacereflectance1\"}, \"format\": \"GTiff\", \"options\": {}}, \"process_id\": \"save_result\", \"result\": true}}}, \"status\": \"queued\"}}</script>\n",
       "    </openeo-job>\n",
       "    "
      ],
      "text/plain": [
       "<BatchJob job_id='eodc-e25ca8bf-47dd-44b4-a401-826dc836bceb'>"
      ]
     },
     "execution_count": 11,
     "metadata": {},
     "output_type": "execute_result"
    }
   ],
   "source": [
    "job_ard_force_tif = connection.create_job(ard_force_tif)#.graph\n",
    "job_ard_force_tif.start_job()"
   ]
  },
  {
   "cell_type": "code",
   "execution_count": 15,
   "id": "f25a3112-3e8e-49ab-997e-489b0986eb6c",
   "metadata": {},
   "outputs": [
    {
     "ename": "AttributeError",
     "evalue": "'DataCube' object has no attribute 'graph'",
     "output_type": "error",
     "traceback": [
      "\u001b[0;31m---------------------------------------------------------------------------\u001b[0m",
      "\u001b[0;31mAttributeError\u001b[0m                            Traceback (most recent call last)",
      "\u001b[0;32m/tmp/ipykernel_111/1215549225.py\u001b[0m in \u001b[0;36m<module>\u001b[0;34m\u001b[0m\n\u001b[0;32m----> 1\u001b[0;31m \u001b[0mard_force_tif\u001b[0m\u001b[0;34m.\u001b[0m\u001b[0mgraph\u001b[0m\u001b[0;34m\u001b[0m\u001b[0;34m\u001b[0m\u001b[0m\n\u001b[0m",
      "\u001b[0;31mAttributeError\u001b[0m: 'DataCube' object has no attribute 'graph'"
     ]
    }
   ],
   "source": [
    "ard_force_tif.graph"
   ]
  },
  {
   "cell_type": "code",
   "execution_count": 16,
   "id": "e904cb20-350b-4830-bdb0-04f98013aefc",
   "metadata": {},
   "outputs": [
    {
     "name": "stdout",
     "output_type": "stream",
     "text": [
      "Batch job created with id:  eodc-e25ca8bf-47dd-44b4-a401-826dc836bceb\n"
     ]
    }
   ],
   "source": [
    "#job_ard_force_tif = connection.create_job(ard_force_tif.graph)\n",
    "job_id_ard_force_tif = job_ard_force_tif.job_id\n",
    "if job_id_ard_force_tif:\n",
    "    print(\"Batch job created with id: \",job_id_ard_force_tif)\n",
    "    job_ard_force_tif.start_job()\n",
    "else:\n",
    "    print(\"Error! Job ID is None\")"
   ]
  },
  {
   "cell_type": "code",
   "execution_count": 17,
   "id": "36818019-5529-4080-a724-2d077675c8ca",
   "metadata": {},
   "outputs": [
    {
     "name": "stdout",
     "output_type": "stream",
     "text": [
      "Batch job with id:  eodc-e25ca8bf-47dd-44b4-a401-826dc836bceb  is  running\n"
     ]
    }
   ],
   "source": [
    "job_ard = connection.job(job_id_ard_force_tif)\n",
    "job_description_ard = job_ard.describe_job()\n",
    "print(\"Batch job with id: \",job_id_ard_force_tif, ' is ',job_description_ard['status'])"
   ]
  },
  {
   "cell_type": "code",
   "execution_count": null,
   "id": "9097ba19-530d-4f4c-8373-02fce34add6f",
   "metadata": {},
   "outputs": [],
   "source": [
    "print(\"Batch job with id: \",job_id_ard_force_tif, ' is ',job_ard.describe_job()['status'])"
   ]
  },
  {
   "cell_type": "code",
   "execution_count": null,
   "id": "51827398-1d1f-49e7-a7b3-2e16363b16d1",
   "metadata": {},
   "outputs": [],
   "source": [
    "job_description_ard"
   ]
  },
  {
   "cell_type": "code",
   "execution_count": null,
   "id": "7c3ff2be-7f56-44ca-a402-824c0597864c",
   "metadata": {},
   "outputs": [],
   "source": [
    "results_ard = job_ard.get_results()\n",
    "# metadata_ard = results_ard.get_metadata()"
   ]
  },
  {
   "cell_type": "code",
   "execution_count": null,
   "id": "7e5015b9-77a7-4399-912d-68ee24a016f4",
   "metadata": {},
   "outputs": [],
   "source": [
    "results_ard.download_files(\"./data/ARD_FORCE_03-2022\")\n",
    "# results_ard.download(\"./data/ARD_FORCE_03-2022\",format=\"GTiff\")"
   ]
  },
  {
   "cell_type": "code",
   "execution_count": null,
   "id": "bfac7886-5586-4dcd-9203-1e86a9979c98",
   "metadata": {},
   "outputs": [],
   "source": [
    "openeo.__version__"
   ]
  },
  {
   "cell_type": "code",
   "execution_count": null,
   "id": "50044324-f94a-4642-a972-d6740e513dbc",
   "metadata": {},
   "outputs": [],
   "source": []
  }
 ],
 "metadata": {
  "kernelspec": {
   "display_name": "openEO Python Client",
   "language": "python",
   "name": "python3"
  },
  "language_info": {
   "codemirror_mode": {
    "name": "ipython",
    "version": 3
   },
   "file_extension": ".py",
   "mimetype": "text/x-python",
   "name": "python",
   "nbconvert_exporter": "python",
   "pygments_lexer": "ipython3",
   "version": "3.9.6"
  }
 },
 "nbformat": 4,
 "nbformat_minor": 5
}
